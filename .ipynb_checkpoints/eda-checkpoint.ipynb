{
 "cells": [
  {
   "cell_type": "code",
   "execution_count": 1,
   "metadata": {},
   "outputs": [
    {
     "name": "stdout",
     "output_type": "stream",
     "text": [
      "\u001b[34mcovid19-global-forecasting-week-1\u001b[m\u001b[m \u001b[34mtmp\u001b[m\u001b[m\r\n",
      "eda.ipynb\r\n"
     ]
    }
   ],
   "source": [
    "!ls"
   ]
  },
  {
   "cell_type": "code",
   "execution_count": 2,
   "metadata": {},
   "outputs": [
    {
     "name": "stdout",
     "output_type": "stream",
     "text": [
      "submission.csv test.csv       train.csv\r\n"
     ]
    }
   ],
   "source": [
    "!ls covid19-global-forecasting-week-1"
   ]
  },
  {
   "cell_type": "code",
   "execution_count": 1,
   "metadata": {},
   "outputs": [],
   "source": [
    "data_dir = \"./covid19-global-forecasting-week-1/\""
   ]
  },
  {
   "cell_type": "code",
   "execution_count": 15,
   "metadata": {},
   "outputs": [],
   "source": [
    "import pandas as pd\n",
    "import matplotlib.pyplot as plt\n",
    "import numpy as np\n",
    "import datetime\n",
    "import tensorflow as tf\n",
    "import math"
   ]
  },
  {
   "cell_type": "markdown",
   "metadata": {},
   "source": [
    "# Read dataset"
   ]
  },
  {
   "cell_type": "code",
   "execution_count": 89,
   "metadata": {},
   "outputs": [],
   "source": [
    "train_df_raw = pd.read_csv(data_dir+\"train.csv\")\n",
    "test_df_raw = pd.read_csv(data_dir+\"test.csv\")\n",
    "all_df = train_df_raw\n",
    "test_df = test_df_raw"
   ]
  },
  {
   "cell_type": "markdown",
   "metadata": {},
   "source": [
    "# Set parameters"
   ]
  },
  {
   "cell_type": "code",
   "execution_count": 87,
   "metadata": {},
   "outputs": [],
   "source": [
    "# paramerers\n",
    "maxlen = 30\n",
    "hidden_number = 32\n",
    "input_number = 5\n",
    "output_number = 2\n",
    "batch_size = 32\n",
    "epochs = 50\n",
    "lr = 0.001"
   ]
  },
  {
   "cell_type": "markdown",
   "metadata": {},
   "source": [
    "# Normalization"
   ]
  },
  {
   "cell_type": "code",
   "execution_count": 17,
   "metadata": {},
   "outputs": [],
   "source": [
    "def map_datetime(date):\n",
    "    return (date - datetime.datetime.strptime('2020-01-22', \"%Y-%m-%d\")).days"
   ]
  },
  {
   "cell_type": "code",
   "execution_count": 18,
   "metadata": {},
   "outputs": [],
   "source": [
    "def to_datetime(date):\n",
    "    return datetime.datetime.strptime(date, \"%Y-%m-%d\")"
   ]
  },
  {
   "cell_type": "code",
   "execution_count": 90,
   "metadata": {},
   "outputs": [],
   "source": [
    "all_df[\"ConfirmedCases\"] = (all_df[\"ConfirmedCases\"] + 1).map(math.log10)\n",
    "cases_max = all_df[\"ConfirmedCases\"].max()\n",
    "fatal_max = all_df[\"Fatalities\"].max()\n",
    "\n",
    "all_df[\"Lat\"] = all_df[\"Lat\"]/180.\n",
    "all_df[\"Long\"] = all_df[\"Long\"]/180.\n",
    "all_df[\"ConfirmedCases\"] = all_df[\"ConfirmedCases\"] / cases_max\n",
    "all_df[\"Fatalities\"] = all_df[\"Fatalities\"] / fatal_max\n",
    "\n",
    "all_df[\"Date\"] = all_df[\"Date\"].map(to_datetime)\n",
    "all_df[\"Date\"] = all_df[\"Date\"].map(map_datetime)\n",
    "date_max = all_df[\"Date\"].max()\n",
    "all_df[\"Date\"] = all_df[\"Date\"] / date_max\n",
    "\n",
    "date_unit = all_df.iloc[1][\"Date\"] - all_df.iloc[0][\"Date\"]\n",
    "\n",
    "val_df = all_df[all_df[\"Date\"] > (all_df.Date.max() - date_unit*(maxlen + 1))]\n",
    "train_df = all_df.drop(all_df[all_df[\"Date\"] == all_df[\"Date\"].max()].index)"
   ]
  },
  {
   "cell_type": "code",
   "execution_count": 91,
   "metadata": {},
   "outputs": [],
   "source": [
    "test_df[\"Lat\"] = test_df[\"Lat\"]/180.\n",
    "test_df[\"Long\"] = test_df[\"Long\"]/180.\n",
    "test_df[\"Date\"] = test_df[\"Date\"].map(to_datetime)\n",
    "test_df[\"Date\"] = test_df[\"Date\"].map(map_datetime)\n",
    "test_df[\"Date\"] = test_df[\"Date\"] / date_max"
   ]
  },
  {
   "cell_type": "markdown",
   "metadata": {},
   "source": [
    "# Preprocessing\n",
    "## for LSTM"
   ]
  },
  {
   "cell_type": "code",
   "execution_count": 92,
   "metadata": {},
   "outputs": [],
   "source": [
    "def make_sequences(train_df):\n",
    "    inputs = []\n",
    "    targets = []\n",
    "    for i in range(len(train_df) - maxlen - 1):\n",
    "        if train_df.iloc[i][\"Lat\"] == train_df.iloc[i+maxlen][\"Lat\"] and \\\n",
    "           train_df.iloc[i][\"Long\"] == train_df.iloc[i+maxlen][\"Long\"]:\n",
    "            inputs.append(np.array(train_df.iloc[i:i+maxlen][[\"Date\", \"Lat\", \"Long\", \"ConfirmedCases\", \"Fatalities\"]]).tolist())\n",
    "            targets.append(np.array(train_df.iloc[i+maxlen][[\"ConfirmedCases\", \"Fatalities\"]]).tolist())\n",
    "    return inputs, targets"
   ]
  },
  {
   "cell_type": "code",
   "execution_count": 93,
   "metadata": {},
   "outputs": [],
   "source": [
    "train_inputs, train_targets = make_sequences(train_df)\n"
   ]
  },
  {
   "cell_type": "code",
   "execution_count": 94,
   "metadata": {},
   "outputs": [],
   "source": [
    "val_inputs, val_targets = make_sequences(val_df)"
   ]
  },
  {
   "cell_type": "markdown",
   "metadata": {},
   "source": [
    "# Make model"
   ]
  },
  {
   "cell_type": "code",
   "execution_count": 24,
   "metadata": {},
   "outputs": [],
   "source": [
    "model = tf.keras.Sequential()\n",
    "model.add(tf.keras.layers.LSTM(hidden_number, batch_input_shape=[None, maxlen, input_number], return_sequences=True))\n",
    "model.add(tf.keras.layers.LSTM(hidden_number))\n",
    "model.add(tf.keras.layers.Dense(output_number, activation=\"sigmoid\"))"
   ]
  },
  {
   "cell_type": "code",
   "execution_count": 25,
   "metadata": {},
   "outputs": [],
   "source": [
    "optimizer = tf.keras.optimizers.Adam(lr=lr)\n",
    "model.compile(loss=\"mean_squared_error\", optimizer=optimizer)"
   ]
  },
  {
   "cell_type": "code",
   "execution_count": 26,
   "metadata": {},
   "outputs": [
    {
     "name": "stdout",
     "output_type": "stream",
     "text": [
      "Train on 7953 samples, validate on 312 samples\n",
      "Epoch 1/50\n",
      "7953/7953 [==============================] - 43s 5ms/sample - loss: 0.0155 - val_loss: 0.0079\n",
      "Epoch 2/50\n",
      "7953/7953 [==============================] - 36s 5ms/sample - loss: 0.0022 - val_loss: 0.0045\n",
      "Epoch 3/50\n",
      "7953/7953 [==============================] - 37s 5ms/sample - loss: 0.0021 - val_loss: 0.0050\n",
      "Epoch 4/50\n",
      "7953/7953 [==============================] - 37s 5ms/sample - loss: 0.0022 - val_loss: 0.0037\n",
      "Epoch 5/50\n",
      "7953/7953 [==============================] - 45s 6ms/sample - loss: 0.0014 - val_loss: 0.0018\n",
      "Epoch 6/50\n",
      "7953/7953 [==============================] - 40s 5ms/sample - loss: 9.9827e-04 - val_loss: 0.0018\n",
      "Epoch 7/50\n",
      "7953/7953 [==============================] - 39s 5ms/sample - loss: 8.7524e-04 - val_loss: 0.0017\n",
      "Epoch 8/50\n",
      "7953/7953 [==============================] - 38s 5ms/sample - loss: 7.9533e-04 - val_loss: 0.0016\n",
      "Epoch 9/50\n",
      "7953/7953 [==============================] - 36s 5ms/sample - loss: 7.2291e-04 - val_loss: 0.0016\n",
      "Epoch 10/50\n",
      "7953/7953 [==============================] - 36s 5ms/sample - loss: 6.5499e-04 - val_loss: 0.0015\n",
      "Epoch 11/50\n",
      "7953/7953 [==============================] - 37s 5ms/sample - loss: 6.4719e-04 - val_loss: 0.0015\n",
      "Epoch 12/50\n",
      "7953/7953 [==============================] - 36s 5ms/sample - loss: 6.0780e-04 - val_loss: 0.0017\n",
      "Epoch 13/50\n",
      "7953/7953 [==============================] - 35s 4ms/sample - loss: 6.1129e-04 - val_loss: 0.0014\n",
      "Epoch 14/50\n",
      "7953/7953 [==============================] - 36s 5ms/sample - loss: 5.5380e-04 - val_loss: 0.0016\n",
      "Epoch 15/50\n",
      "7953/7953 [==============================] - 41s 5ms/sample - loss: 5.1514e-04 - val_loss: 0.0014\n",
      "Epoch 16/50\n",
      "7953/7953 [==============================] - 43s 5ms/sample - loss: 4.6907e-04 - val_loss: 0.0013\n",
      "Epoch 17/50\n",
      "7953/7953 [==============================] - 41s 5ms/sample - loss: 4.5661e-04 - val_loss: 0.0015\n",
      "Epoch 18/50\n",
      "7953/7953 [==============================] - 45s 6ms/sample - loss: 4.4691e-04 - val_loss: 0.0014\n",
      "Epoch 19/50\n",
      "7953/7953 [==============================] - 36s 4ms/sample - loss: 4.1433e-04 - val_loss: 0.0014\n",
      "Epoch 20/50\n",
      "7953/7953 [==============================] - 36s 5ms/sample - loss: 3.9664e-04 - val_loss: 0.0013\n",
      "Epoch 21/50\n",
      "7953/7953 [==============================] - 36s 4ms/sample - loss: 4.0123e-04 - val_loss: 0.0013\n",
      "Epoch 22/50\n",
      "7953/7953 [==============================] - 36s 5ms/sample - loss: 4.0196e-04 - val_loss: 0.0012\n",
      "Epoch 23/50\n",
      "7953/7953 [==============================] - 37s 5ms/sample - loss: 3.7751e-04 - val_loss: 0.0013\n",
      "Epoch 24/50\n",
      "7953/7953 [==============================] - 37s 5ms/sample - loss: 3.8087e-04 - val_loss: 0.0013\n",
      "Epoch 25/50\n",
      "7953/7953 [==============================] - 37s 5ms/sample - loss: 3.7737e-04 - val_loss: 0.0013\n",
      "Epoch 26/50\n",
      "7953/7953 [==============================] - 41s 5ms/sample - loss: 3.6136e-04 - val_loss: 0.0013\n",
      "Epoch 27/50\n",
      "7953/7953 [==============================] - 36s 5ms/sample - loss: 3.7996e-04 - val_loss: 0.0014\n"
     ]
    },
    {
     "data": {
      "text/plain": [
       "<tensorflow.python.keras.callbacks.History at 0xb469d1ac8>"
      ]
     },
     "execution_count": 26,
     "metadata": {},
     "output_type": "execute_result"
    }
   ],
   "source": [
    "early_stopping = tf.keras.callbacks.EarlyStopping(monitor='val_loss', mode='auto', patience=5)\n",
    "model.fit(train_inputs, train_targets,\n",
    "          batch_size=batch_size,\n",
    "          epochs=epochs,\n",
    "          validation_data=(val_inputs, val_targets),\n",
    "          callbacks = [early_stopping]\n",
    "          )"
   ]
  },
  {
   "cell_type": "markdown",
   "metadata": {},
   "source": [
    "# stateful for prediction"
   ]
  },
  {
   "cell_type": "code",
   "execution_count": 74,
   "metadata": {},
   "outputs": [],
   "source": [
    "model2 = tf.keras.Sequential()\n",
    "model2.add(tf.keras.layers.LSTM(hidden_number, batch_input_shape=[1, maxlen, input_number], return_sequences=True, stateful=True))\n",
    "model2.add(tf.keras.layers.LSTM(hidden_number, stateful=True))\n",
    "model2.add(tf.keras.layers.Dense(output_number, activation=\"sigmoid\"))"
   ]
  },
  {
   "cell_type": "code",
   "execution_count": 13,
   "metadata": {},
   "outputs": [],
   "source": [
    "#model.save_weights('./tmp/param.hdf5')\n",
    "model.load_weights('./tmp/param.hdf5')"
   ]
  },
  {
   "cell_type": "code",
   "execution_count": 76,
   "metadata": {},
   "outputs": [],
   "source": [
    "model2.load_weights('./tmp/param.hdf5')"
   ]
  },
  {
   "cell_type": "code",
   "execution_count": 30,
   "metadata": {},
   "outputs": [],
   "source": [
    "date_unit = train_df.iloc[2][\"Date\"] - train_df.iloc[1][\"Date\"]"
   ]
  },
  {
   "cell_type": "code",
   "execution_count": 76,
   "metadata": {},
   "outputs": [],
   "source": [
    "idx = test_df.groupby([\"Province/State\", \"Country/Region\"]).count().index[0]"
   ]
  },
  {
   "cell_type": "code",
   "execution_count": 79,
   "metadata": {},
   "outputs": [
    {
     "data": {
      "text/plain": [
       "'US'"
      ]
     },
     "execution_count": 79,
     "metadata": {},
     "output_type": "execute_result"
    }
   ],
   "source": [
    "idx[1]"
   ]
  },
  {
   "cell_type": "code",
   "execution_count": 119,
   "metadata": {},
   "outputs": [],
   "source": [
    "test_df = test_df.fillna({\"Province/State\": \"NAN\"})\n",
    "train_df = train_df.fillna({\"Province/State\": \"NAN\"})"
   ]
  },
  {
   "cell_type": "code",
   "execution_count": 120,
   "metadata": {},
   "outputs": [],
   "source": [
    "results = []\n",
    "for idx in test_df.groupby([\"Province/State\", \"Country/Region\"]).count().index:\n",
    "    test_df_on_idx = test_df[(test_df[\"Province/State\"] == idx[0]) &\n",
    "                             (test_df[\"Country/Region\"] == idx[1])]\n",
    "    train_df_on_idx = train_df[(train_df[\"Country/Region\"] == idx[1]) &\n",
    "                               (train_df[\"Province/State\"] == idx[0])]\n",
    "    inputs = np.array(train_df_on_idx[[\"Date\", \"Lat\", \"Long\", \"ConfirmedCases\", \"Fatalities\"]])[-maxlen:]\n",
    "    inputs = inputs.reshape(maxlen, input_number)\n",
    "    for day in range(43):\n",
    "        result = model.predict(np.array(inputs).reshape(1, maxlen, input_number)).reshape(-1)\n",
    "        inputs = np.concatenate((inputs[1:], np.append(inputs[-1, :3], result).reshape(1, input_number)), axis=0)\n",
    "        results.append([10**(result[0]*cases_max), result[1]*fatal_max])"
   ]
  },
  {
   "cell_type": "code",
   "execution_count": 121,
   "metadata": {},
   "outputs": [
    {
     "data": {
      "text/plain": [
       "(284, 12212)"
      ]
     },
     "execution_count": 121,
     "metadata": {},
     "output_type": "execute_result"
    }
   ],
   "source": [
    "test_df[], len(results)"
   ]
  },
  {
   "cell_type": "code",
   "execution_count": 123,
   "metadata": {},
   "outputs": [],
   "source": [
    "submit_df = pd.read_csv(data_dir+\"submission.csv\")"
   ]
  },
  {
   "cell_type": "code",
   "execution_count": 134,
   "metadata": {},
   "outputs": [
    {
     "data": {
      "text/plain": [
       "array([], dtype=float64)"
      ]
     },
     "execution_count": 134,
     "metadata": {},
     "output_type": "execute_result"
    }
   ],
   "source": [
    "np.array(results)[np.array(results) == np.nan]"
   ]
  },
  {
   "cell_type": "code",
   "execution_count": 141,
   "metadata": {},
   "outputs": [
    {
     "data": {
      "text/plain": [
       "[122.82014843514558, 6.496423825621605]"
      ]
     },
     "execution_count": 141,
     "metadata": {},
     "output_type": "execute_result"
    }
   ],
   "source": [
    "results[0]"
   ]
  },
  {
   "cell_type": "code",
   "execution_count": 154,
   "metadata": {},
   "outputs": [],
   "source": [
    "cases = []\n",
    "fatals = []\n",
    "for i in range(len(results)):\n",
    "    n = results[i][0] \n",
    "    f = results[i][1]\n",
    "    try:\n",
    "        cases.append(int(n))\n",
    "    except:\n",
    "        cases.append(0)\n",
    "    \n",
    "    try:\n",
    "        fatals.append(int(f))\n",
    "    except:\n",
    "        fatals.append(0)"
   ]
  },
  {
   "cell_type": "code",
   "execution_count": 155,
   "metadata": {},
   "outputs": [],
   "source": [
    "submit_df[\"ConfirmedCases\"] = cases\n",
    "submit_df[\"Fatalities\"] = fatals"
   ]
  },
  {
   "cell_type": "code",
   "execution_count": 157,
   "metadata": {},
   "outputs": [],
   "source": [
    "submit_df.to_csv(\"submission.csv\")"
   ]
  }
 ],
 "metadata": {
  "kernelspec": {
   "display_name": "Python 3",
   "language": "python",
   "name": "python3"
  },
  "language_info": {
   "codemirror_mode": {
    "name": "ipython",
    "version": 3
   },
   "file_extension": ".py",
   "mimetype": "text/x-python",
   "name": "python",
   "nbconvert_exporter": "python",
   "pygments_lexer": "ipython3",
   "version": "3.7.0"
  }
 },
 "nbformat": 4,
 "nbformat_minor": 4
}
